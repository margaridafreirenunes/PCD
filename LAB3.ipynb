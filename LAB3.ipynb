{
 "cells": [
  {
   "cell_type": "code",
   "execution_count": 2,
   "metadata": {},
   "outputs": [],
   "source": [
    "#list of 007 movies where Sean Connery features James Bond\n",
    "moviesSeanConnery = [\"Dr. No (1962)\",\n",
    "\"From Russia with Love (1963)\",\n",
    "\"Goldfinger (1964)\",\n",
    "\"Thunderball (1965)\",\n",
    "\"You Only Live Twice (1967)\",\n",
    "\"Diamonds Are Forever (1971)\",\n",
    "\"Never Say Never Again (1983)\"]\n",
    "#list of 007 movies where David Neven features James Bond\n",
    "moviesDavidNeven=[\"Casino Royale (1967)\"]\n",
    "#list of 007 movies where George Lazenby features James Bond\n",
    "moviesGeorgeLazenby=[\"On Her Majesty's Secret Service (1969)\"]\n",
    "#list of 007 movies where Roger Moore features James Bond\n",
    "moviesRogerMoore=[ \"Live and Let Die (1973)\",\n",
    "\"The Man with the Golden Gun (1974)\",\n",
    "\"The Spy Who Loved Me (1977)\",\n",
    "\"Moonraker (1979)\",\n",
    "\"For Your Eyes Only (1981)\",\n",
    "\"Octopussy (1983)\",\n",
    "\"A View to a Kill (1985)\"]\n",
    "#list of 007 movies where Timothy Dalton features James Bond\n",
    "moviesTimothyDalton=[\n",
    "\"The Living Daylights (1987)\",\n",
    "\"Licence to Kill (1989)\"]\n",
    "#list of 007 movies where Pierce Brosnan features James Bond\n",
    "moviesPierceBrosnan=[\n",
    "\"GoldenEye (1995)\",\n",
    "\"Tomorrow Never Dies (1997)\",\n",
    "\"The World Is Not Enough (1999)\",\n",
    "\"Die Another Day (2002)\"]\n",
    "#list of 007 movies where Daniel Craig features James Bond\n",
    "moviesDanielCraig=[\"Casino Royale (2006)\",\n",
    "\"Quantum of Solace (2008)\",\n",
    "\"Skyfall (2012)\",\n",
    "\"Spectre (2015)\"]"
   ]
  },
  {
   "cell_type": "code",
   "execution_count": 5,
   "metadata": {},
   "outputs": [],
   "source": [
    "#Create a list of lists (movies007). The list will be composed by each list of movies featured by each actor\n",
    "movies007 = list((moviesSeanConnery, moviesDavidNeven, moviesGeorgeLazenby, moviesRogerMoore, moviesTimothyDalton, moviesPierceBrosnan, moviesDanielCraig))"
   ]
  },
  {
   "cell_type": "code",
   "execution_count": 6,
   "metadata": {},
   "outputs": [
    {
     "name": "stdout",
     "output_type": "stream",
     "text": [
      "[['Dr. No (1962)', 'From Russia with Love (1963)', 'Goldfinger (1964)', 'Thunderball (1965)', 'You Only Live Twice (1967)', 'Diamonds Are Forever (1971)', 'Never Say Never Again (1983)'], ['Casino Royale (1967)'], [\"On Her Majesty's Secret Service (1969)\"], ['Live and Let Die (1973)', 'The Man with the Golden Gun (1974)', 'The Spy Who Loved Me (1977)', 'Moonraker (1979)', 'For Your Eyes Only (1981)', 'Octopussy (1983)', 'A View to a Kill (1985)'], ['The Living Daylights (1987)', 'Licence to Kill (1989)'], ['GoldenEye (1995)', 'Tomorrow Never Dies (1997)', 'The World Is Not Enough (1999)', 'Die Another Day (2002)'], ['Casino Royale (2006)', 'Quantum of Solace (2008)', 'Skyfall (2012)', 'Spectre (2015)']]\n"
     ]
    }
   ],
   "source": [
    "print(movies007)"
   ]
  },
  {
   "cell_type": "code",
   "execution_count": 8,
   "metadata": {
    "scrolled": false
   },
   "outputs": [
    {
     "name": "stdout",
     "output_type": "stream",
     "text": [
      "7\n"
     ]
    }
   ],
   "source": [
    "#How many movies were played by the first actor to play James Bond?\n",
    "print(len(movies007[0]))"
   ]
  },
  {
   "cell_type": "code",
   "execution_count": 11,
   "metadata": {},
   "outputs": [
    {
     "name": "stdout",
     "output_type": "stream",
     "text": [
      "4\n"
     ]
    }
   ],
   "source": [
    "#How many movies were played by the last actor to play James Bond?\n",
    "print(len(movies007[-1]))"
   ]
  },
  {
   "cell_type": "code",
   "execution_count": 14,
   "metadata": {},
   "outputs": [],
   "source": [
    "# Create a new list with the number of movies played by each actor\n",
    "first = len(movies007[0])\n",
    "second = len(movies007[1])\n",
    "third = len(movies007[2])\n",
    "fourth = len(movies007[3])\n",
    "fifth = len(movies007[4])\n",
    "sixth = len(movies007[5])\n",
    "seventh = len(movies007[-1])\n",
    "movies007number_list = list ((first, second, third, fourth, fifth, sixth, seventh))"
   ]
  },
  {
   "cell_type": "code",
   "execution_count": 15,
   "metadata": {},
   "outputs": [
    {
     "name": "stdout",
     "output_type": "stream",
     "text": [
      "[7, 1, 1, 7, 2, 4, 4]\n"
     ]
    }
   ],
   "source": [
    "print(movies007number_list)"
   ]
  },
  {
   "cell_type": "code",
   "execution_count": 16,
   "metadata": {},
   "outputs": [
    {
     "data": {
      "text/plain": [
       "7"
      ]
     },
     "execution_count": 16,
     "metadata": {},
     "output_type": "execute_result"
    }
   ],
   "source": [
    "#How many movies were played by the actor who appeared most often in movies?\n",
    "max(movies007number_list)"
   ]
  },
  {
   "cell_type": "code",
   "execution_count": 17,
   "metadata": {},
   "outputs": [
    {
     "data": {
      "text/plain": [
       "1"
      ]
     },
     "execution_count": 17,
     "metadata": {},
     "output_type": "execute_result"
    }
   ],
   "source": [
    "#How many movies were played by the actor who appeared in fewer movies?\n",
    "min(movies007number_list)"
   ]
  },
  {
   "cell_type": "code",
   "execution_count": 18,
   "metadata": {},
   "outputs": [],
   "source": [
    "#Create a new list (movies007a) with all the films.\n",
    "movies007a = []\n",
    "movies007a.extend(moviesSeanConnery)\n",
    "movies007a.extend(moviesDavidNeven)\n",
    "movies007a.extend(moviesGeorgeLazenby)\n",
    "movies007a.extend(moviesRogerMoore)\n",
    "movies007a.extend(moviesPierceBrosnan)\n",
    "movies007a.extend(moviesDanielCraig)"
   ]
  },
  {
   "cell_type": "code",
   "execution_count": 19,
   "metadata": {},
   "outputs": [
    {
     "name": "stdout",
     "output_type": "stream",
     "text": [
      "['Dr. No (1962)', 'From Russia with Love (1963)', 'Goldfinger (1964)', 'Thunderball (1965)', 'You Only Live Twice (1967)', 'Diamonds Are Forever (1971)', 'Never Say Never Again (1983)', 'Casino Royale (1967)', \"On Her Majesty's Secret Service (1969)\", 'Live and Let Die (1973)', 'The Man with the Golden Gun (1974)', 'The Spy Who Loved Me (1977)', 'Moonraker (1979)', 'For Your Eyes Only (1981)', 'Octopussy (1983)', 'A View to a Kill (1985)', 'GoldenEye (1995)', 'Tomorrow Never Dies (1997)', 'The World Is Not Enough (1999)', 'Die Another Day (2002)', 'Casino Royale (2006)', 'Quantum of Solace (2008)', 'Skyfall (2012)', 'Spectre (2015)']\n"
     ]
    }
   ],
   "source": [
    "print(movies007a)"
   ]
  },
  {
   "cell_type": "code",
   "execution_count": 20,
   "metadata": {},
   "outputs": [],
   "source": [
    "#Sort the elements of the list\n",
    "movies007a.sort()"
   ]
  },
  {
   "cell_type": "code",
   "execution_count": 22,
   "metadata": {},
   "outputs": [
    {
     "name": "stdout",
     "output_type": "stream",
     "text": [
      "['A View to a Kill (1985)', 'Casino Royale (1967)', 'Casino Royale (2006)', 'Diamonds Are Forever (1971)', 'Die Another Day (2002)', 'Dr. No (1962)', 'For Your Eyes Only (1981)', 'From Russia with Love (1963)', 'GoldenEye (1995)', 'Goldfinger (1964)', 'Live and Let Die (1973)', 'Moonraker (1979)', 'Never Say Never Again (1983)', 'Octopussy (1983)', \"On Her Majesty's Secret Service (1969)\", 'Quantum of Solace (2008)', 'Skyfall (2012)', 'Spectre (2015)', 'The Man with the Golden Gun (1974)', 'The Spy Who Loved Me (1977)', 'The World Is Not Enough (1999)', 'Thunderball (1965)', 'Tomorrow Never Dies (1997)', 'You Only Live Twice (1967)']\n"
     ]
    }
   ],
   "source": [
    "print(movies007a)"
   ]
  },
  {
   "cell_type": "code",
   "execution_count": 30,
   "metadata": {},
   "outputs": [],
   "source": [
    "#Reverse the order of the list. \n",
    "#What will happen if this method is executed twice? \n",
    "#Does this method sort the list if it is not sorted?\n",
    "movies007a.reverse()"
   ]
  },
  {
   "cell_type": "code",
   "execution_count": 31,
   "metadata": {},
   "outputs": [
    {
     "name": "stdout",
     "output_type": "stream",
     "text": [
      "[['Dr. No (1962)', 'From Russia with Love (1963)', 'Goldfinger (1964)', 'Thunderball (1965)', 'You Only Live Twice (1967)', 'Diamonds Are Forever (1971)', 'Never Say Never Again (1983)'], ['Casino Royale (1967)'], [\"On Her Majesty's Secret Service (1969)\"], ['Live and Let Die (1973)', 'The Man with the Golden Gun (1974)', 'The Spy Who Loved Me (1977)', 'Moonraker (1979)', 'For Your Eyes Only (1981)', 'Octopussy (1983)', 'A View to a Kill (1985)'], ['The Living Daylights (1987)', 'Licence to Kill (1989)'], ['GoldenEye (1995)', 'Tomorrow Never Dies (1997)', 'The World Is Not Enough (1999)', 'Die Another Day (2002)'], ['Casino Royale (2006)', 'Quantum of Solace (2008)', 'Skyfall (2012)', 'Spectre (2015)']]\n"
     ]
    }
   ],
   "source": [
    "print(movies007)"
   ]
  },
  {
   "cell_type": "code",
   "execution_count": 35,
   "metadata": {},
   "outputs": [],
   "source": [
    "movies007a.reverse()"
   ]
  },
  {
   "cell_type": "code",
   "execution_count": 36,
   "metadata": {},
   "outputs": [
    {
     "name": "stdout",
     "output_type": "stream",
     "text": [
      "['Dr. No (1962)', 'Spectre (2015)', 'Skyfall (2012)', 'Octopussy (1983)', 'Moonraker (1979)', 'GoldenEye (1995)', 'Goldfinger (1964)', 'Thunderball (1965)', 'Casino Royale (2006)', 'Casino Royale (1967)', 'Die Another Day (2002)', 'Live and Let Die (1973)', 'A View to a Kill (1985)', 'Quantum of Solace (2008)', 'For Your Eyes Only (1981)', 'You Only Live Twice (1967)', 'Tomorrow Never Dies (1997)', 'The Spy Who Loved Me (1977)', 'Diamonds Are Forever (1971)', 'Never Say Never Again (1983)', 'From Russia with Love (1963)', 'The World Is Not Enough (1999)', 'The Man with the Golden Gun (1974)', \"On Her Majesty's Secret Service (1969)\"]\n"
     ]
    }
   ],
   "source": [
    "print(movies007a)"
   ]
  },
  {
   "cell_type": "markdown",
   "metadata": {},
   "source": [
    "Se fizermos reverse outra vez, a ordem não volta à original"
   ]
  },
  {
   "cell_type": "code",
   "execution_count": 37,
   "metadata": {},
   "outputs": [],
   "source": [
    "movies007a.sort(key=len, reverse=True)"
   ]
  },
  {
   "cell_type": "code",
   "execution_count": 38,
   "metadata": {},
   "outputs": [
    {
     "name": "stdout",
     "output_type": "stream",
     "text": [
      "[\"On Her Majesty's Secret Service (1969)\", 'The Man with the Golden Gun (1974)', 'The World Is Not Enough (1999)', 'Never Say Never Again (1983)', 'From Russia with Love (1963)', 'The Spy Who Loved Me (1977)', 'Diamonds Are Forever (1971)', 'You Only Live Twice (1967)', 'Tomorrow Never Dies (1997)', 'For Your Eyes Only (1981)', 'Quantum of Solace (2008)', 'Live and Let Die (1973)', 'A View to a Kill (1985)', 'Die Another Day (2002)', 'Casino Royale (2006)', 'Casino Royale (1967)', 'Thunderball (1965)', 'Goldfinger (1964)', 'Octopussy (1983)', 'Moonraker (1979)', 'GoldenEye (1995)', 'Spectre (2015)', 'Skyfall (2012)', 'Dr. No (1962)']\n"
     ]
    }
   ],
   "source": [
    "print(movies007a)"
   ]
  },
  {
   "cell_type": "markdown",
   "metadata": {},
   "source": [
    "Não é necessário aplicar sort sem reverse primeiro"
   ]
  },
  {
   "cell_type": "code",
   "execution_count": 39,
   "metadata": {},
   "outputs": [
    {
     "data": {
      "text/plain": [
       "21"
      ]
     },
     "execution_count": 39,
     "metadata": {},
     "output_type": "execute_result"
    }
   ],
   "source": [
    "#What is the index of the movie \"Spectre (2015)\" in the list of movies\n",
    "movies007a.index(\"Spectre (2015)\")"
   ]
  },
  {
   "cell_type": "code",
   "execution_count": 40,
   "metadata": {},
   "outputs": [],
   "source": [
    "#Add the movie \"007 and the bad Guy of the climate change (2020)\" in the 11th position.\n",
    "movies007a.insert(10, \"007 and the bad Guy of the climate change (2020)\")"
   ]
  },
  {
   "cell_type": "code",
   "execution_count": 41,
   "metadata": {},
   "outputs": [
    {
     "name": "stdout",
     "output_type": "stream",
     "text": [
      "[\"On Her Majesty's Secret Service (1969)\", 'The Man with the Golden Gun (1974)', 'The World Is Not Enough (1999)', 'Never Say Never Again (1983)', 'From Russia with Love (1963)', 'The Spy Who Loved Me (1977)', 'Diamonds Are Forever (1971)', 'You Only Live Twice (1967)', 'Tomorrow Never Dies (1997)', 'For Your Eyes Only (1981)', '007 and the bad Guy of the climate change (2020)', 'Quantum of Solace (2008)', 'Live and Let Die (1973)', 'A View to a Kill (1985)', 'Die Another Day (2002)', 'Casino Royale (2006)', 'Casino Royale (1967)', 'Thunderball (1965)', 'Goldfinger (1964)', 'Octopussy (1983)', 'Moonraker (1979)', 'GoldenEye (1995)', 'Spectre (2015)', 'Skyfall (2012)', 'Dr. No (1962)']\n"
     ]
    }
   ],
   "source": [
    "print(movies007a)"
   ]
  },
  {
   "cell_type": "code",
   "execution_count": 42,
   "metadata": {},
   "outputs": [],
   "source": [
    "# It was a mistake. Remove the movie \"007 and the bad Guy of the climate change (2020)\"\n",
    "movies007a.remove(\"007 and the bad Guy of the climate change (2020)\")"
   ]
  },
  {
   "cell_type": "code",
   "execution_count": 43,
   "metadata": {},
   "outputs": [
    {
     "name": "stdout",
     "output_type": "stream",
     "text": [
      "[\"On Her Majesty's Secret Service (1969)\", 'The Man with the Golden Gun (1974)', 'The World Is Not Enough (1999)', 'Never Say Never Again (1983)', 'From Russia with Love (1963)', 'The Spy Who Loved Me (1977)', 'Diamonds Are Forever (1971)', 'You Only Live Twice (1967)', 'Tomorrow Never Dies (1997)', 'For Your Eyes Only (1981)', 'Quantum of Solace (2008)', 'Live and Let Die (1973)', 'A View to a Kill (1985)', 'Die Another Day (2002)', 'Casino Royale (2006)', 'Casino Royale (1967)', 'Thunderball (1965)', 'Goldfinger (1964)', 'Octopussy (1983)', 'Moonraker (1979)', 'GoldenEye (1995)', 'Spectre (2015)', 'Skyfall (2012)', 'Dr. No (1962)']\n"
     ]
    }
   ],
   "source": [
    "print(movies007a)"
   ]
  },
  {
   "cell_type": "code",
   "execution_count": null,
   "metadata": {},
   "outputs": [],
   "source": []
  }
 ],
 "metadata": {
  "kernelspec": {
   "display_name": "Python 3",
   "language": "python",
   "name": "python3"
  },
  "language_info": {
   "codemirror_mode": {
    "name": "ipython",
    "version": 3
   },
   "file_extension": ".py",
   "mimetype": "text/x-python",
   "name": "python",
   "nbconvert_exporter": "python",
   "pygments_lexer": "ipython3",
   "version": "3.8.3"
  }
 },
 "nbformat": 4,
 "nbformat_minor": 4
}
